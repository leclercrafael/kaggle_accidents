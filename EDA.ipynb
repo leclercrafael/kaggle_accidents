{
 "cells": [
  {
   "cell_type": "markdown",
   "id": "7359c769",
   "metadata": {},
   "source": [
    "<h1>Predicting Road Accident Risk Playground Series - Season 5, Episode 10"
   ]
  },
  {
   "cell_type": "markdown",
   "id": "d2a89d9f",
   "metadata": {},
   "source": [
    "<h2>Imports"
   ]
  },
  {
   "cell_type": "code",
   "execution_count": 8,
   "id": "114de5f5",
   "metadata": {},
   "outputs": [
    {
     "name": "stdout",
     "output_type": "stream",
     "text": [
      "Imports done\n"
     ]
    }
   ],
   "source": [
    "import pandas as pd\n",
    "import numpy as np\n",
    "import matplotlib.pyplot as plt\n",
    "\n",
    "\n",
    "print('Imports done')"
   ]
  },
  {
   "cell_type": "code",
   "execution_count": 9,
   "id": "041dc8a9",
   "metadata": {},
   "outputs": [],
   "source": [
    "train = pd.read_csv('data/train.csv')\n",
    "X_test = pd.read_csv('data/test.csv')\n",
    "sample = pd.read_csv('data/sample_submission.csv')"
   ]
  },
  {
   "cell_type": "code",
   "execution_count": 10,
   "id": "1a2dc6e9",
   "metadata": {},
   "outputs": [],
   "source": [
    "y_train = train.accident_risk\n",
    "\n",
    "X_train = train.drop(columns=['accident_risk'])"
   ]
  },
  {
   "cell_type": "code",
   "execution_count": 11,
   "id": "38b64d54",
   "metadata": {},
   "outputs": [
    {
     "name": "stdout",
     "output_type": "stream",
     "text": [
      "<class 'pandas.core.frame.DataFrame'>\n",
      "RangeIndex: 517754 entries, 0 to 517753\n",
      "Data columns (total 14 columns):\n",
      " #   Column                  Non-Null Count   Dtype  \n",
      "---  ------                  --------------   -----  \n",
      " 0   id                      517754 non-null  int64  \n",
      " 1   road_type               517754 non-null  object \n",
      " 2   num_lanes               517754 non-null  int64  \n",
      " 3   curvature               517754 non-null  float64\n",
      " 4   speed_limit             517754 non-null  int64  \n",
      " 5   lighting                517754 non-null  object \n",
      " 6   weather                 517754 non-null  object \n",
      " 7   road_signs_present      517754 non-null  bool   \n",
      " 8   public_road             517754 non-null  bool   \n",
      " 9   time_of_day             517754 non-null  object \n",
      " 10  holiday                 517754 non-null  bool   \n",
      " 11  school_season           517754 non-null  bool   \n",
      " 12  num_reported_accidents  517754 non-null  int64  \n",
      " 13  accident_risk           517754 non-null  float64\n",
      "dtypes: bool(4), float64(2), int64(4), object(4)\n",
      "memory usage: 41.5+ MB\n"
     ]
    }
   ],
   "source": [
    "train.info()"
   ]
  },
  {
   "cell_type": "code",
   "execution_count": 12,
   "id": "9c4a474b",
   "metadata": {},
   "outputs": [
    {
     "name": "stdout",
     "output_type": "stream",
     "text": [
      "<class 'pandas.core.frame.DataFrame'>\n",
      "RangeIndex: 172585 entries, 0 to 172584\n",
      "Data columns (total 13 columns):\n",
      " #   Column                  Non-Null Count   Dtype  \n",
      "---  ------                  --------------   -----  \n",
      " 0   id                      172585 non-null  int64  \n",
      " 1   road_type               172585 non-null  object \n",
      " 2   num_lanes               172585 non-null  int64  \n",
      " 3   curvature               172585 non-null  float64\n",
      " 4   speed_limit             172585 non-null  int64  \n",
      " 5   lighting                172585 non-null  object \n",
      " 6   weather                 172585 non-null  object \n",
      " 7   road_signs_present      172585 non-null  bool   \n",
      " 8   public_road             172585 non-null  bool   \n",
      " 9   time_of_day             172585 non-null  object \n",
      " 10  holiday                 172585 non-null  bool   \n",
      " 11  school_season           172585 non-null  bool   \n",
      " 12  num_reported_accidents  172585 non-null  int64  \n",
      "dtypes: bool(4), float64(1), int64(4), object(4)\n",
      "memory usage: 12.5+ MB\n"
     ]
    }
   ],
   "source": [
    "X_test.info()"
   ]
  },
  {
   "cell_type": "code",
   "execution_count": 14,
   "id": "de3f539e",
   "metadata": {},
   "outputs": [
    {
     "data": {
      "text/html": [
       "<div>\n",
       "<style scoped>\n",
       "    .dataframe tbody tr th:only-of-type {\n",
       "        vertical-align: middle;\n",
       "    }\n",
       "\n",
       "    .dataframe tbody tr th {\n",
       "        vertical-align: top;\n",
       "    }\n",
       "\n",
       "    .dataframe thead th {\n",
       "        text-align: right;\n",
       "    }\n",
       "</style>\n",
       "<table border=\"1\" class=\"dataframe\">\n",
       "  <thead>\n",
       "    <tr style=\"text-align: right;\">\n",
       "      <th></th>\n",
       "      <th>count</th>\n",
       "      <th>mean</th>\n",
       "      <th>std</th>\n",
       "      <th>min</th>\n",
       "      <th>25%</th>\n",
       "      <th>50%</th>\n",
       "      <th>75%</th>\n",
       "      <th>max</th>\n",
       "    </tr>\n",
       "  </thead>\n",
       "  <tbody>\n",
       "    <tr>\n",
       "      <th>id</th>\n",
       "      <td>517754.0</td>\n",
       "      <td>258876.500000</td>\n",
       "      <td>149462.849975</td>\n",
       "      <td>0.0</td>\n",
       "      <td>129438.25</td>\n",
       "      <td>258876.50</td>\n",
       "      <td>388314.75</td>\n",
       "      <td>517753.0</td>\n",
       "    </tr>\n",
       "    <tr>\n",
       "      <th>num_lanes</th>\n",
       "      <td>517754.0</td>\n",
       "      <td>2.491511</td>\n",
       "      <td>1.120434</td>\n",
       "      <td>1.0</td>\n",
       "      <td>1.00</td>\n",
       "      <td>2.00</td>\n",
       "      <td>3.00</td>\n",
       "      <td>4.0</td>\n",
       "    </tr>\n",
       "    <tr>\n",
       "      <th>curvature</th>\n",
       "      <td>517754.0</td>\n",
       "      <td>0.488719</td>\n",
       "      <td>0.272563</td>\n",
       "      <td>0.0</td>\n",
       "      <td>0.26</td>\n",
       "      <td>0.51</td>\n",
       "      <td>0.71</td>\n",
       "      <td>1.0</td>\n",
       "    </tr>\n",
       "    <tr>\n",
       "      <th>speed_limit</th>\n",
       "      <td>517754.0</td>\n",
       "      <td>46.112575</td>\n",
       "      <td>15.788521</td>\n",
       "      <td>25.0</td>\n",
       "      <td>35.00</td>\n",
       "      <td>45.00</td>\n",
       "      <td>60.00</td>\n",
       "      <td>70.0</td>\n",
       "    </tr>\n",
       "    <tr>\n",
       "      <th>num_reported_accidents</th>\n",
       "      <td>517754.0</td>\n",
       "      <td>1.187970</td>\n",
       "      <td>0.895961</td>\n",
       "      <td>0.0</td>\n",
       "      <td>1.00</td>\n",
       "      <td>1.00</td>\n",
       "      <td>2.00</td>\n",
       "      <td>7.0</td>\n",
       "    </tr>\n",
       "    <tr>\n",
       "      <th>accident_risk</th>\n",
       "      <td>517754.0</td>\n",
       "      <td>0.352377</td>\n",
       "      <td>0.166417</td>\n",
       "      <td>0.0</td>\n",
       "      <td>0.23</td>\n",
       "      <td>0.34</td>\n",
       "      <td>0.46</td>\n",
       "      <td>1.0</td>\n",
       "    </tr>\n",
       "  </tbody>\n",
       "</table>\n",
       "</div>"
      ],
      "text/plain": [
       "                           count           mean            std   min  \\\n",
       "id                      517754.0  258876.500000  149462.849975   0.0   \n",
       "num_lanes               517754.0       2.491511       1.120434   1.0   \n",
       "curvature               517754.0       0.488719       0.272563   0.0   \n",
       "speed_limit             517754.0      46.112575      15.788521  25.0   \n",
       "num_reported_accidents  517754.0       1.187970       0.895961   0.0   \n",
       "accident_risk           517754.0       0.352377       0.166417   0.0   \n",
       "\n",
       "                              25%        50%        75%       max  \n",
       "id                      129438.25  258876.50  388314.75  517753.0  \n",
       "num_lanes                    1.00       2.00       3.00       4.0  \n",
       "curvature                    0.26       0.51       0.71       1.0  \n",
       "speed_limit                 35.00      45.00      60.00      70.0  \n",
       "num_reported_accidents       1.00       1.00       2.00       7.0  \n",
       "accident_risk                0.23       0.34       0.46       1.0  "
      ]
     },
     "execution_count": 14,
     "metadata": {},
     "output_type": "execute_result"
    }
   ],
   "source": [
    "train.describe().T"
   ]
  },
  {
   "cell_type": "code",
   "execution_count": 15,
   "id": "b85b1d6e",
   "metadata": {},
   "outputs": [
    {
     "data": {
      "text/html": [
       "<div>\n",
       "<style scoped>\n",
       "    .dataframe tbody tr th:only-of-type {\n",
       "        vertical-align: middle;\n",
       "    }\n",
       "\n",
       "    .dataframe tbody tr th {\n",
       "        vertical-align: top;\n",
       "    }\n",
       "\n",
       "    .dataframe thead th {\n",
       "        text-align: right;\n",
       "    }\n",
       "</style>\n",
       "<table border=\"1\" class=\"dataframe\">\n",
       "  <thead>\n",
       "    <tr style=\"text-align: right;\">\n",
       "      <th></th>\n",
       "      <th>count</th>\n",
       "      <th>mean</th>\n",
       "      <th>std</th>\n",
       "      <th>min</th>\n",
       "      <th>25%</th>\n",
       "      <th>50%</th>\n",
       "      <th>75%</th>\n",
       "      <th>max</th>\n",
       "    </tr>\n",
       "  </thead>\n",
       "  <tbody>\n",
       "    <tr>\n",
       "      <th>id</th>\n",
       "      <td>172585.0</td>\n",
       "      <td>604046.000000</td>\n",
       "      <td>49821.142441</td>\n",
       "      <td>517754.0</td>\n",
       "      <td>560900.00</td>\n",
       "      <td>604046.00</td>\n",
       "      <td>647192.00</td>\n",
       "      <td>690338.0</td>\n",
       "    </tr>\n",
       "    <tr>\n",
       "      <th>num_lanes</th>\n",
       "      <td>172585.0</td>\n",
       "      <td>2.494046</td>\n",
       "      <td>1.119148</td>\n",
       "      <td>1.0</td>\n",
       "      <td>1.00</td>\n",
       "      <td>2.00</td>\n",
       "      <td>3.00</td>\n",
       "      <td>4.0</td>\n",
       "    </tr>\n",
       "    <tr>\n",
       "      <th>curvature</th>\n",
       "      <td>172585.0</td>\n",
       "      <td>0.487263</td>\n",
       "      <td>0.272343</td>\n",
       "      <td>0.0</td>\n",
       "      <td>0.26</td>\n",
       "      <td>0.51</td>\n",
       "      <td>0.71</td>\n",
       "      <td>1.0</td>\n",
       "    </tr>\n",
       "    <tr>\n",
       "      <th>speed_limit</th>\n",
       "      <td>172585.0</td>\n",
       "      <td>46.102761</td>\n",
       "      <td>15.787077</td>\n",
       "      <td>25.0</td>\n",
       "      <td>35.00</td>\n",
       "      <td>45.00</td>\n",
       "      <td>60.00</td>\n",
       "      <td>70.0</td>\n",
       "    </tr>\n",
       "    <tr>\n",
       "      <th>num_reported_accidents</th>\n",
       "      <td>172585.0</td>\n",
       "      <td>1.186059</td>\n",
       "      <td>0.897161</td>\n",
       "      <td>0.0</td>\n",
       "      <td>1.00</td>\n",
       "      <td>1.00</td>\n",
       "      <td>2.00</td>\n",
       "      <td>7.0</td>\n",
       "    </tr>\n",
       "  </tbody>\n",
       "</table>\n",
       "</div>"
      ],
      "text/plain": [
       "                           count           mean           std       min  \\\n",
       "id                      172585.0  604046.000000  49821.142441  517754.0   \n",
       "num_lanes               172585.0       2.494046      1.119148       1.0   \n",
       "curvature               172585.0       0.487263      0.272343       0.0   \n",
       "speed_limit             172585.0      46.102761     15.787077      25.0   \n",
       "num_reported_accidents  172585.0       1.186059      0.897161       0.0   \n",
       "\n",
       "                              25%        50%        75%       max  \n",
       "id                      560900.00  604046.00  647192.00  690338.0  \n",
       "num_lanes                    1.00       2.00       3.00       4.0  \n",
       "curvature                    0.26       0.51       0.71       1.0  \n",
       "speed_limit                 35.00      45.00      60.00      70.0  \n",
       "num_reported_accidents       1.00       1.00       2.00       7.0  "
      ]
     },
     "execution_count": 15,
     "metadata": {},
     "output_type": "execute_result"
    }
   ],
   "source": [
    "X_test.describe().T"
   ]
  }
 ],
 "metadata": {
  "kernelspec": {
   "display_name": "base",
   "language": "python",
   "name": "python3"
  },
  "language_info": {
   "codemirror_mode": {
    "name": "ipython",
    "version": 3
   },
   "file_extension": ".py",
   "mimetype": "text/x-python",
   "name": "python",
   "nbconvert_exporter": "python",
   "pygments_lexer": "ipython3",
   "version": "3.13.5"
  }
 },
 "nbformat": 4,
 "nbformat_minor": 5
}
